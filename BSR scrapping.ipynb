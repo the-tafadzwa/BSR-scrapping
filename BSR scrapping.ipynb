{
 "cells": [
  {
   "cell_type": "code",
   "execution_count": 1,
   "id": "17402b7c",
   "metadata": {},
   "outputs": [],
   "source": [
    "import requests\n",
    "from bs4 import BeautifulSoup"
   ]
  },
  {
   "cell_type": "code",
   "execution_count": 2,
   "id": "0aea971e",
   "metadata": {},
   "outputs": [],
   "source": [
    "url = 'https://bigsr.africa/category/big-saturday-read/page/'"
   ]
  },
  {
   "cell_type": "code",
   "execution_count": 3,
   "id": "93492570",
   "metadata": {},
   "outputs": [],
   "source": [
    "\n",
    "\n",
    "article_urls = set()\n",
    "\n",
    "for page in range(1,17):\n",
    "\n",
    "    # Concatenate to get new page URL\n",
    "    page_url = url+str(page)\n",
    "    # Obtain Request\n",
    "    res = requests.get(page_url)\n",
    "    # Turn into Soup\n",
    "    soup = BeautifulSoup(res.text,'lxml')\n",
    "    \n",
    "    containers = soup.findAll(\"h3\", attrs={\"class\": \"entry-title td-module-title\"})\n",
    "    \n",
    "    for div in containers:\n",
    "        links = div.findAll('a')\n",
    "        for a in links:\n",
    "            article_urls.add(a['href'])\n",
    "    \n"
   ]
  },
  {
   "cell_type": "code",
   "execution_count": 5,
   "id": "e134d208",
   "metadata": {},
   "outputs": [
    {
     "name": "stdout",
     "output_type": "stream",
     "text": [
      "[Errno 2] No such file or directory: 'blog_posts/BSR_ What does Exchange Control Directive 102/2019 mean for the ordinary person.txt'\n"
     ]
    }
   ],
   "source": [
    "for url in article_urls:\n",
    "    \n",
    "    #Obtain Request\n",
    "    res = requests.get(url)\n",
    "    # Turn into Soup\n",
    "    soup = BeautifulSoup(res.text,'lxml')\n",
    "    \n",
    "    heading  = soup.findAll(\"h1\", attrs = {\"class\": \"entry-title\"})\n",
    "    for i in heading:\n",
    "        name = i.text.replace(':','_').replace('?','')\n",
    "        \n",
    "        \n",
    "    post_date  = soup.findAll(\"span\", attrs = {\"class\": \"td-post-date\"})\n",
    "    for date in post_date[0]:\n",
    "        date = date.text\n",
    "        \n",
    "        \n",
    "    views  = soup.findAll(\"div\", attrs = {\"class\": \"td-post-views\"})\n",
    "    for view in views:\n",
    "        v = view.text\n",
    "        \n",
    "    body  = soup.findAll(\"div\", attrs = {\"class\": \"td-post-content tagdiv-type\"})\n",
    "    for par in body:\n",
    "        par = par.text\n",
    "    \n",
    "    try:\n",
    "        with open(f'blog_posts/{name}.txt', 'w',encoding='utf-8') as f:\n",
    "                \n",
    "                f.write(name)\n",
    "                f.write(f' Published{date}.')\n",
    "                f.write('/n')\n",
    "                f.write(f' {v} views.')\n",
    "                f.write(par)\n",
    "    except Exception as e:\n",
    "        print(e)\n",
    "        continue"
   ]
  },
  {
   "cell_type": "code",
   "execution_count": null,
   "id": "4bcaf28d",
   "metadata": {},
   "outputs": [],
   "source": []
  }
 ],
 "metadata": {
  "kernelspec": {
   "display_name": "Python 3",
   "language": "python",
   "name": "python3"
  },
  "language_info": {
   "codemirror_mode": {
    "name": "ipython",
    "version": 3
   },
   "file_extension": ".py",
   "mimetype": "text/x-python",
   "name": "python",
   "nbconvert_exporter": "python",
   "pygments_lexer": "ipython3",
   "version": "3.8.8"
  }
 },
 "nbformat": 4,
 "nbformat_minor": 5
}
