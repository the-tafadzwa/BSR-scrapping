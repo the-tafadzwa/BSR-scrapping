{
 "cells": [
  {
   "cell_type": "code",
   "execution_count": 1,
   "metadata": {},
   "outputs": [],
   "source": [
    "import requests\n",
    "from bs4 import BeautifulSoup"
   ]
  },
  {
   "cell_type": "code",
   "execution_count": 2,
   "metadata": {},
   "outputs": [],
   "source": [
    "url = 'https://bigsr.africa/category/big-saturday-read/page/'"
   ]
  },
  {
   "cell_type": "code",
   "execution_count": 3,
   "metadata": {},
   "outputs": [],
   "source": [
    "article_urls = set()\n",
    "\n",
    "for page in range(1,17):\n",
    "\n",
    "    # Concatenate to get new page URL\n",
    "    page_url = url+str(page)\n",
    "    # Obtain Request\n",
    "    res = requests.get(page_url)\n",
    "    # Turn into Soup\n",
    "    soup = BeautifulSoup(res.text,'lxml')\n",
    "    \n",
    "    containers = soup.findAll(\"h3\", attrs={\"class\": \"entry-title td-module-title\"})\n",
    "    #print(content)\n",
    "    for div in containers:\n",
    "        links = div.findAll('a')\n",
    "        for a in links:\n",
    "            article_urls.add(a['href'])\n",
    "    #print(soup)"
   ]
  },
  {
   "cell_type": "code",
   "execution_count": 25,
   "metadata": {},
   "outputs": [
    {
     "name": "stdout",
     "output_type": "stream",
     "text": [
      "[Errno 2] No such file or directory: 'BSR_ What does Exchange Control Directive 102/2019 mean for the ordinary person.txt'\n"
     ]
    }
   ],
   "source": [
    "for url in article_urls:\n",
    "    \n",
    "    #Obtain Request\n",
    "    res = requests.get(url)\n",
    "    # Turn into Soup\n",
    "    soup = BeautifulSoup(res.text,'lxml')\n",
    "    \n",
    "    heading  = soup.findAll(\"h1\", attrs = {\"class\": \"entry-title\"})\n",
    "    for i in heading:\n",
    "        name = i.text.replace(':','_').replace('?','')\n",
    "        \n",
    "        \n",
    "    post_date  = soup.findAll(\"span\", attrs = {\"class\": \"td-post-date\"})\n",
    "    for date in post_date[0]:\n",
    "        date = date.text\n",
    "        \n",
    "        \n",
    "    views  = soup.findAll(\"div\", attrs = {\"class\": \"td-post-views\"})\n",
    "    for view in views:\n",
    "        v = view.text\n",
    "        \n",
    "    body  = soup.findAll(\"div\", attrs = {\"class\": \"td-post-content tagdiv-type\"})\n",
    "    for par in body:\n",
    "        par = par.text\n",
    "    \n",
    "    try:\n",
    "        with open(f'{name}.txt', 'w',encoding='utf-8') as f:\n",
    "                #print(name)\n",
    "                f.write(name)\n",
    "                f.write(f' Published{date}.')\n",
    "                f.write('/n')\n",
    "                f.write(f' {v} views.')\n",
    "                f.write(par)\n",
    "    except Exception as e:\n",
    "        print(e)\n",
    "        continue"
   ]
  },
  {
   "cell_type": "code",
   "execution_count": null,
   "metadata": {},
   "outputs": [],
   "source": []
  },
  {
   "cell_type": "code",
   "execution_count": null,
   "metadata": {},
   "outputs": [],
   "source": []
  }
 ],
 "metadata": {
  "kernelspec": {
   "display_name": "Python 3",
   "language": "python",
   "name": "python3"
  },
  "language_info": {
   "codemirror_mode": {
    "name": "ipython",
    "version": 3
   },
   "file_extension": ".py",
   "mimetype": "text/x-python",
   "name": "python",
   "nbconvert_exporter": "python",
   "pygments_lexer": "ipython3",
   "version": "3.8.3"
  }
 },
 "nbformat": 4,
 "nbformat_minor": 4
}
